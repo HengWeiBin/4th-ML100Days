{
 "cells": [
  {
   "cell_type": "markdown",
   "metadata": {},
   "source": [
    "## [作業目標]\n",
    "了解機器學習適合應用的領域與範疇。"
   ]
  },
  {
   "cell_type": "markdown",
   "metadata": {},
   "source": [
    "## [作業重點]\n",
    "透過瞭解機器學習的運作方式，找出非常適用機器學習應用的領域及其原因"
   ]
  },
  {
   "cell_type": "markdown",
   "metadata": {},
   "source": [
    "## 作業\n",
    "請找出一個你認為機器學習可以發光發熱的領域並闡述原因? "
   ]
  },
  {
   "cell_type": "markdown",
   "metadata": {},
   "source": [
    "       我認爲機器學習在醫療領域上有非常大的空間可以發光發熱，醫療領域的數據量相當龐大，隨著全球人口平均壽命延長，對於醫療的需求自然也愈來愈大，健康照護產業正面臨巨大挑戰，紛紛尋求人工智慧(AI)科技，希望提高效率、降低成本。現在人們已經開始利用機器學習檢視大量病人的數據，如醫療影像、X光片等等來檢測病患的健康狀況，及早發現病症。最後，機器人也開始被使用于手術，幫助醫生完成更高難度的手術。相信未來通過這項領域，機器人可以更有效的改善醫院的效率，快速診斷出病因且找出最有效的治療方法，讓人類免於如今這種疫情災難之中。"
   ]
  }
 ],
 "metadata": {
  "kernelspec": {
   "display_name": "Python 3",
   "language": "python",
   "name": "python3"
  },
  "language_info": {
   "codemirror_mode": {
    "name": "ipython",
    "version": 3
   },
   "file_extension": ".py",
   "mimetype": "text/x-python",
   "name": "python",
   "nbconvert_exporter": "python",
   "pygments_lexer": "ipython3",
   "version": "3.7.4"
  }
 },
 "nbformat": 4,
 "nbformat_minor": 2
}
