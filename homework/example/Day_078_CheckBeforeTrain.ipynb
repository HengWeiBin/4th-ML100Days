{
 "cells": [
  {
   "cell_type": "markdown",
   "metadata": {},
   "source": [
    "## 範例重點\n",
    "### 學習在模型開始前檢查各個環節\n",
    "1. 是否有 GPU 資源\n",
    "2. 將前處理轉為函式，統一處理訓練、驗證與測試集\n",
    "3. 將超參數變數化，易於重複使用函式、模型等"
   ]
  },
  {
   "cell_type": "code",
   "execution_count": 1,
   "metadata": {},
   "outputs": [],
   "source": [
    "## 確認硬體資源 (如果你是在 Linux, 若是在 Windows, 請參考 https://blog.csdn.net/idwtwt/article/details/78017565)\n",
    "#!nvidia-smi"
   ]
  },
  {
   "cell_type": "code",
   "execution_count": 2,
   "metadata": {},
   "outputs": [],
   "source": [
    "import os\n",
    "import keras\n",
    "\n",
    "# 本範例不需使用 GPU, 將 GPU 設定為 \"無\"\n",
    "os.environ[\"CUDA_VISIBLE_DEVICES\"] = \"\""
   ]
  },
  {
   "cell_type": "code",
   "execution_count": 3,
   "metadata": {},
   "outputs": [],
   "source": [
    "# 從 Keras 的內建功能中，取得 train 與 test 資料集\n",
    "train, test = keras.datasets.cifar10.load_data()"
   ]
  },
  {
   "cell_type": "code",
   "execution_count": 4,
   "metadata": {},
   "outputs": [],
   "source": [
    "## 資料前處理\n",
    "def preproc_x(x, flatten=True):\n",
    "    x = x / 255.\n",
    "    if flatten:\n",
    "        x = x.reshape((len(x), -1))\n",
    "    return x\n",
    "\n",
    "def preproc_y(y, num_classes=10):\n",
    "    if y.shape[-1] == 1:\n",
    "        y = keras.utils.to_categorical(y, num_classes)\n",
    "    return y    "
   ]
  },
  {
   "cell_type": "code",
   "execution_count": 5,
   "metadata": {},
   "outputs": [],
   "source": [
    "x_train, y_train = train\n",
    "x_test, y_test = test\n",
    "\n",
    "# 資料前處理 - X 標準化\n",
    "x_train = preproc_x(x_train)\n",
    "x_test = preproc_x(x_test)\n",
    "\n",
    "# 資料前處理 -Y 轉成 onehot\n",
    "y_train = preproc_y(y_train)\n",
    "y_test = preproc_y(y_test)"
   ]
  },
  {
   "cell_type": "code",
   "execution_count": 6,
   "metadata": {},
   "outputs": [],
   "source": [
    "def build_mlp(input_shape, output_units=10, num_neurons=[512, 256, 128]):\n",
    "    input_layer = keras.layers.Input(input_shape)\n",
    "    \n",
    "    for i, n_units in enumerate(num_neurons):\n",
    "        if i == 0:\n",
    "            x = keras.layers.Dense(units=n_units, activation=\"relu\", name=\"hidden_layer\"+str(i+1))(input_layer)\n",
    "        else:\n",
    "            x = keras.layers.Dense(units=n_units, activation=\"relu\", name=\"hidden_layer\"+str(i+1))(x)\n",
    "    \n",
    "    out = keras.layers.Dense(units=output_units, activation=\"softmax\", name=\"output\")(x)\n",
    "    \n",
    "    model = keras.models.Model(inputs=[input_layer], outputs=[out])\n",
    "    return model"
   ]
  },
  {
   "cell_type": "code",
   "execution_count": 7,
   "metadata": {},
   "outputs": [
    {
     "name": "stdout",
     "output_type": "stream",
     "text": [
      "Model: \"functional_1\"\n",
      "_________________________________________________________________\n",
      "Layer (type)                 Output Shape              Param #   \n",
      "=================================================================\n",
      "input_1 (InputLayer)         [(None, 3072)]            0         \n",
      "_________________________________________________________________\n",
      "hidden_layer1 (Dense)        (None, 512)               1573376   \n",
      "_________________________________________________________________\n",
      "hidden_layer2 (Dense)        (None, 256)               131328    \n",
      "_________________________________________________________________\n",
      "hidden_layer3 (Dense)        (None, 128)               32896     \n",
      "_________________________________________________________________\n",
      "output (Dense)               (None, 10)                1290      \n",
      "=================================================================\n",
      "Total params: 1,738,890\n",
      "Trainable params: 1,738,890\n",
      "Non-trainable params: 0\n",
      "_________________________________________________________________\n"
     ]
    }
   ],
   "source": [
    "model = build_mlp(input_shape=x_train.shape[1:])\n",
    "model.summary()"
   ]
  },
  {
   "cell_type": "code",
   "execution_count": 8,
   "metadata": {},
   "outputs": [],
   "source": [
    "## 超參數設定\n",
    "LEARNING_RATE = 0.001\n",
    "EPOCHS = 100\n",
    "BATCH_SIZE = 256"
   ]
  },
  {
   "cell_type": "code",
   "execution_count": 9,
   "metadata": {},
   "outputs": [],
   "source": [
    "optimizer = keras.optimizers.Adam(lr=LEARNING_RATE)\n",
    "model.compile(loss=\"categorical_crossentropy\", metrics=[\"accuracy\"], optimizer=optimizer)"
   ]
  },
  {
   "cell_type": "code",
   "execution_count": 10,
   "metadata": {},
   "outputs": [
    {
     "name": "stdout",
     "output_type": "stream",
     "text": [
      "Epoch 1/100\n",
      "196/196 [==============================] - 2s 8ms/step - loss: 1.9631 - accuracy: 0.2943 - val_loss: 1.7747 - val_accuracy: 0.3624\n",
      "Epoch 2/100\n",
      "196/196 [==============================] - 1s 7ms/step - loss: 1.7180 - accuracy: 0.3839 - val_loss: 1.7164 - val_accuracy: 0.3814\n",
      "Epoch 3/100\n",
      "196/196 [==============================] - 1s 6ms/step - loss: 1.6374 - accuracy: 0.4151 - val_loss: 1.6509 - val_accuracy: 0.4108\n",
      "Epoch 4/100\n",
      "196/196 [==============================] - 1s 6ms/step - loss: 1.5700 - accuracy: 0.4414 - val_loss: 1.5817 - val_accuracy: 0.4433\n",
      "Epoch 5/100\n",
      "196/196 [==============================] - 1s 7ms/step - loss: 1.5288 - accuracy: 0.4546 - val_loss: 1.5182 - val_accuracy: 0.4616\n",
      "Epoch 6/100\n",
      "196/196 [==============================] - 1s 7ms/step - loss: 1.4793 - accuracy: 0.4734 - val_loss: 1.5325 - val_accuracy: 0.4508\n",
      "Epoch 7/100\n",
      "196/196 [==============================] - 1s 6ms/step - loss: 1.4558 - accuracy: 0.4821 - val_loss: 1.5165 - val_accuracy: 0.4590\n",
      "Epoch 8/100\n",
      "196/196 [==============================] - 1s 6ms/step - loss: 1.4178 - accuracy: 0.4933 - val_loss: 1.4690 - val_accuracy: 0.4749\n",
      "Epoch 9/100\n",
      "196/196 [==============================] - 1s 6ms/step - loss: 1.3924 - accuracy: 0.5032 - val_loss: 1.4431 - val_accuracy: 0.4881\n",
      "Epoch 10/100\n",
      "196/196 [==============================] - 1s 7ms/step - loss: 1.3607 - accuracy: 0.5169 - val_loss: 1.4364 - val_accuracy: 0.4859\n",
      "Epoch 11/100\n",
      "196/196 [==============================] - 1s 7ms/step - loss: 1.3440 - accuracy: 0.5223 - val_loss: 1.4620 - val_accuracy: 0.4822\n",
      "Epoch 12/100\n",
      "196/196 [==============================] - 1s 7ms/step - loss: 1.3143 - accuracy: 0.5313 - val_loss: 1.4399 - val_accuracy: 0.4910\n",
      "Epoch 13/100\n",
      "196/196 [==============================] - 1s 7ms/step - loss: 1.2896 - accuracy: 0.5415 - val_loss: 1.4338 - val_accuracy: 0.4969\n",
      "Epoch 14/100\n",
      "196/196 [==============================] - 1s 6ms/step - loss: 1.2673 - accuracy: 0.5495 - val_loss: 1.4343 - val_accuracy: 0.4934\n",
      "Epoch 15/100\n",
      "196/196 [==============================] - 1s 6ms/step - loss: 1.2517 - accuracy: 0.5537 - val_loss: 1.4127 - val_accuracy: 0.5015\n",
      "Epoch 16/100\n",
      "196/196 [==============================] - 1s 7ms/step - loss: 1.2266 - accuracy: 0.5625 - val_loss: 1.4211 - val_accuracy: 0.5034\n",
      "Epoch 17/100\n",
      "196/196 [==============================] - 1s 6ms/step - loss: 1.2104 - accuracy: 0.5694 - val_loss: 1.3737 - val_accuracy: 0.5138\n",
      "Epoch 18/100\n",
      "196/196 [==============================] - 1s 7ms/step - loss: 1.1814 - accuracy: 0.5807 - val_loss: 1.3593 - val_accuracy: 0.5212\n",
      "Epoch 19/100\n",
      "196/196 [==============================] - 1s 7ms/step - loss: 1.1643 - accuracy: 0.5857 - val_loss: 1.3890 - val_accuracy: 0.5103\n",
      "Epoch 20/100\n",
      "196/196 [==============================] - 1s 7ms/step - loss: 1.1487 - accuracy: 0.5894 - val_loss: 1.3963 - val_accuracy: 0.5122\n",
      "Epoch 21/100\n",
      "196/196 [==============================] - 1s 7ms/step - loss: 1.1211 - accuracy: 0.6003 - val_loss: 1.3824 - val_accuracy: 0.5254\n",
      "Epoch 22/100\n",
      "196/196 [==============================] - 1s 7ms/step - loss: 1.1022 - accuracy: 0.6070 - val_loss: 1.3845 - val_accuracy: 0.5281\n",
      "Epoch 23/100\n",
      "196/196 [==============================] - 1s 7ms/step - loss: 1.0977 - accuracy: 0.6058 - val_loss: 1.4056 - val_accuracy: 0.5188\n",
      "Epoch 24/100\n",
      "196/196 [==============================] - 1s 8ms/step - loss: 1.0739 - accuracy: 0.6166 - val_loss: 1.3931 - val_accuracy: 0.5207\n",
      "Epoch 25/100\n",
      "196/196 [==============================] - 2s 8ms/step - loss: 1.0575 - accuracy: 0.6238 - val_loss: 1.3794 - val_accuracy: 0.5309\n",
      "Epoch 26/100\n",
      "196/196 [==============================] - 2s 8ms/step - loss: 1.0277 - accuracy: 0.6323 - val_loss: 1.3792 - val_accuracy: 0.5262\n",
      "Epoch 27/100\n",
      "196/196 [==============================] - 1s 7ms/step - loss: 1.0185 - accuracy: 0.6376 - val_loss: 1.4137 - val_accuracy: 0.5212\n",
      "Epoch 28/100\n",
      "196/196 [==============================] - 1s 7ms/step - loss: 0.9893 - accuracy: 0.6469 - val_loss: 1.4084 - val_accuracy: 0.5237\n",
      "Epoch 29/100\n",
      "196/196 [==============================] - 1s 7ms/step - loss: 0.9844 - accuracy: 0.6488 - val_loss: 1.4483 - val_accuracy: 0.5203\n",
      "Epoch 30/100\n",
      "196/196 [==============================] - 1s 7ms/step - loss: 0.9572 - accuracy: 0.6590 - val_loss: 1.3960 - val_accuracy: 0.5331\n",
      "Epoch 31/100\n",
      "196/196 [==============================] - 1s 7ms/step - loss: 0.9409 - accuracy: 0.6639 - val_loss: 1.4437 - val_accuracy: 0.5167\n",
      "Epoch 32/100\n",
      "196/196 [==============================] - 1s 7ms/step - loss: 0.9263 - accuracy: 0.6702 - val_loss: 1.4228 - val_accuracy: 0.5280\n",
      "Epoch 33/100\n",
      "196/196 [==============================] - 1s 7ms/step - loss: 0.9096 - accuracy: 0.6737 - val_loss: 1.4429 - val_accuracy: 0.5223\n",
      "Epoch 34/100\n",
      "196/196 [==============================] - 1s 7ms/step - loss: 0.8932 - accuracy: 0.6836 - val_loss: 1.4567 - val_accuracy: 0.5289\n",
      "Epoch 35/100\n",
      "196/196 [==============================] - 1s 7ms/step - loss: 0.8691 - accuracy: 0.6889 - val_loss: 1.4733 - val_accuracy: 0.5229\n",
      "Epoch 36/100\n",
      "196/196 [==============================] - 1s 7ms/step - loss: 0.8640 - accuracy: 0.6938 - val_loss: 1.4886 - val_accuracy: 0.5253\n",
      "Epoch 37/100\n",
      "196/196 [==============================] - 1s 7ms/step - loss: 0.8483 - accuracy: 0.6966 - val_loss: 1.5092 - val_accuracy: 0.5214\n",
      "Epoch 38/100\n",
      "196/196 [==============================] - 1s 7ms/step - loss: 0.8187 - accuracy: 0.7082 - val_loss: 1.5355 - val_accuracy: 0.5209\n",
      "Epoch 39/100\n",
      "196/196 [==============================] - 1s 7ms/step - loss: 0.8116 - accuracy: 0.7108 - val_loss: 1.5239 - val_accuracy: 0.5247\n",
      "Epoch 40/100\n",
      "196/196 [==============================] - 1s 7ms/step - loss: 0.8006 - accuracy: 0.7162 - val_loss: 1.5498 - val_accuracy: 0.5252\n",
      "Epoch 41/100\n",
      "196/196 [==============================] - 1s 7ms/step - loss: 0.7804 - accuracy: 0.7230 - val_loss: 1.5843 - val_accuracy: 0.5142\n",
      "Epoch 42/100\n",
      "196/196 [==============================] - 1s 7ms/step - loss: 0.7797 - accuracy: 0.7205 - val_loss: 1.5696 - val_accuracy: 0.5208\n",
      "Epoch 43/100\n",
      "196/196 [==============================] - 1s 7ms/step - loss: 0.7528 - accuracy: 0.7300 - val_loss: 1.5798 - val_accuracy: 0.5211\n",
      "Epoch 44/100\n",
      "196/196 [==============================] - 1s 7ms/step - loss: 0.7371 - accuracy: 0.7366 - val_loss: 1.6297 - val_accuracy: 0.5233\n",
      "Epoch 45/100\n",
      "196/196 [==============================] - 1s 7ms/step - loss: 0.7231 - accuracy: 0.7431 - val_loss: 1.6102 - val_accuracy: 0.5249\n",
      "Epoch 46/100\n",
      "196/196 [==============================] - 1s 7ms/step - loss: 0.7107 - accuracy: 0.7463 - val_loss: 1.6696 - val_accuracy: 0.5177\n",
      "Epoch 47/100\n",
      "196/196 [==============================] - 1s 7ms/step - loss: 0.7008 - accuracy: 0.7500 - val_loss: 1.6924 - val_accuracy: 0.5094\n",
      "Epoch 48/100\n",
      "196/196 [==============================] - 1s 7ms/step - loss: 0.6847 - accuracy: 0.7534 - val_loss: 1.6882 - val_accuracy: 0.5251\n",
      "Epoch 49/100\n",
      "196/196 [==============================] - 1s 7ms/step - loss: 0.6562 - accuracy: 0.7662 - val_loss: 1.7327 - val_accuracy: 0.5176\n",
      "Epoch 50/100\n",
      "196/196 [==============================] - 1s 7ms/step - loss: 0.6622 - accuracy: 0.7641 - val_loss: 1.7329 - val_accuracy: 0.5197\n",
      "Epoch 51/100\n",
      "196/196 [==============================] - 1s 7ms/step - loss: 0.6436 - accuracy: 0.7719 - val_loss: 1.7886 - val_accuracy: 0.5190\n",
      "Epoch 52/100\n",
      "196/196 [==============================] - 1s 7ms/step - loss: 0.6284 - accuracy: 0.7765 - val_loss: 1.7842 - val_accuracy: 0.5157\n",
      "Epoch 53/100\n",
      "196/196 [==============================] - 1s 7ms/step - loss: 0.6239 - accuracy: 0.7786 - val_loss: 1.8635 - val_accuracy: 0.5106\n",
      "Epoch 54/100\n",
      "196/196 [==============================] - 1s 7ms/step - loss: 0.6061 - accuracy: 0.7845 - val_loss: 1.8386 - val_accuracy: 0.5101\n",
      "Epoch 55/100\n",
      "196/196 [==============================] - 1s 7ms/step - loss: 0.5973 - accuracy: 0.7863 - val_loss: 1.8584 - val_accuracy: 0.5137\n",
      "Epoch 56/100\n",
      "196/196 [==============================] - 1s 7ms/step - loss: 0.5905 - accuracy: 0.7892 - val_loss: 1.9410 - val_accuracy: 0.5176\n",
      "Epoch 57/100\n",
      "196/196 [==============================] - 1s 7ms/step - loss: 0.5718 - accuracy: 0.7964 - val_loss: 1.9096 - val_accuracy: 0.5122\n"
     ]
    },
    {
     "name": "stdout",
     "output_type": "stream",
     "text": [
      "Epoch 58/100\n",
      "196/196 [==============================] - 1s 7ms/step - loss: 0.5667 - accuracy: 0.7983 - val_loss: 1.9193 - val_accuracy: 0.5152\n",
      "Epoch 59/100\n",
      "196/196 [==============================] - 1s 8ms/step - loss: 0.5576 - accuracy: 0.8016 - val_loss: 2.0152 - val_accuracy: 0.5112\n",
      "Epoch 60/100\n",
      "196/196 [==============================] - 1s 8ms/step - loss: 0.5319 - accuracy: 0.8097 - val_loss: 2.0074 - val_accuracy: 0.5098\n",
      "Epoch 61/100\n",
      "196/196 [==============================] - 1s 7ms/step - loss: 0.5260 - accuracy: 0.8125 - val_loss: 2.0565 - val_accuracy: 0.5144\n",
      "Epoch 62/100\n",
      "196/196 [==============================] - 2s 8ms/step - loss: 0.5103 - accuracy: 0.8169 - val_loss: 2.1355 - val_accuracy: 0.5151\n",
      "Epoch 63/100\n",
      "196/196 [==============================] - 1s 7ms/step - loss: 0.5018 - accuracy: 0.8202 - val_loss: 2.1005 - val_accuracy: 0.5139\n",
      "Epoch 64/100\n",
      "196/196 [==============================] - 1s 7ms/step - loss: 0.5006 - accuracy: 0.8193 - val_loss: 2.1479 - val_accuracy: 0.5099\n",
      "Epoch 65/100\n",
      "196/196 [==============================] - 1s 7ms/step - loss: 0.4990 - accuracy: 0.8215 - val_loss: 2.1188 - val_accuracy: 0.5075\n",
      "Epoch 66/100\n",
      "196/196 [==============================] - 1s 7ms/step - loss: 0.4930 - accuracy: 0.8221 - val_loss: 2.1662 - val_accuracy: 0.5137\n",
      "Epoch 67/100\n",
      "196/196 [==============================] - 1s 7ms/step - loss: 0.4886 - accuracy: 0.8250 - val_loss: 2.1926 - val_accuracy: 0.5068\n",
      "Epoch 68/100\n",
      "196/196 [==============================] - 1s 7ms/step - loss: 0.4666 - accuracy: 0.8341 - val_loss: 2.2370 - val_accuracy: 0.5159\n",
      "Epoch 69/100\n",
      "196/196 [==============================] - 1s 7ms/step - loss: 0.4509 - accuracy: 0.8395 - val_loss: 2.3158 - val_accuracy: 0.5026\n",
      "Epoch 70/100\n",
      "196/196 [==============================] - 1s 7ms/step - loss: 0.4521 - accuracy: 0.8381 - val_loss: 2.3564 - val_accuracy: 0.5075\n",
      "Epoch 71/100\n",
      "196/196 [==============================] - 1s 7ms/step - loss: 0.4487 - accuracy: 0.8391 - val_loss: 2.4076 - val_accuracy: 0.5025\n",
      "Epoch 72/100\n",
      "196/196 [==============================] - 1s 7ms/step - loss: 0.4291 - accuracy: 0.8467 - val_loss: 2.3374 - val_accuracy: 0.5086\n",
      "Epoch 73/100\n",
      "196/196 [==============================] - 1s 7ms/step - loss: 0.4360 - accuracy: 0.8443 - val_loss: 2.3976 - val_accuracy: 0.5027\n",
      "Epoch 74/100\n",
      "196/196 [==============================] - 2s 8ms/step - loss: 0.4233 - accuracy: 0.8489 - val_loss: 2.4701 - val_accuracy: 0.5043\n",
      "Epoch 75/100\n",
      "196/196 [==============================] - 2s 8ms/step - loss: 0.4117 - accuracy: 0.8528 - val_loss: 2.5049 - val_accuracy: 0.5050\n",
      "Epoch 76/100\n",
      "196/196 [==============================] - 1s 7ms/step - loss: 0.4064 - accuracy: 0.8536 - val_loss: 2.4647 - val_accuracy: 0.5100\n",
      "Epoch 77/100\n",
      "196/196 [==============================] - 1s 7ms/step - loss: 0.4075 - accuracy: 0.8542 - val_loss: 2.4854 - val_accuracy: 0.5114\n",
      "Epoch 78/100\n",
      "196/196 [==============================] - 1s 7ms/step - loss: 0.3916 - accuracy: 0.8602 - val_loss: 2.5852 - val_accuracy: 0.5046\n",
      "Epoch 79/100\n",
      "196/196 [==============================] - 1s 7ms/step - loss: 0.3910 - accuracy: 0.8587 - val_loss: 2.5817 - val_accuracy: 0.5025\n",
      "Epoch 80/100\n",
      "196/196 [==============================] - 2s 8ms/step - loss: 0.3871 - accuracy: 0.8592 - val_loss: 2.5068 - val_accuracy: 0.5091\n",
      "Epoch 81/100\n",
      "196/196 [==============================] - 2s 8ms/step - loss: 0.3666 - accuracy: 0.8678 - val_loss: 2.6602 - val_accuracy: 0.5064\n",
      "Epoch 82/100\n",
      "196/196 [==============================] - 2s 8ms/step - loss: 0.3845 - accuracy: 0.8626 - val_loss: 2.6369 - val_accuracy: 0.5127\n",
      "Epoch 83/100\n",
      "196/196 [==============================] - 2s 8ms/step - loss: 0.3713 - accuracy: 0.8661 - val_loss: 2.6944 - val_accuracy: 0.5025\n",
      "Epoch 84/100\n",
      "196/196 [==============================] - 1s 7ms/step - loss: 0.3591 - accuracy: 0.8724 - val_loss: 2.6697 - val_accuracy: 0.5088\n",
      "Epoch 85/100\n",
      "196/196 [==============================] - 1s 7ms/step - loss: 0.3433 - accuracy: 0.8760 - val_loss: 2.8253 - val_accuracy: 0.5012\n",
      "Epoch 86/100\n",
      "196/196 [==============================] - 1s 7ms/step - loss: 0.3505 - accuracy: 0.8747 - val_loss: 2.8344 - val_accuracy: 0.4994\n",
      "Epoch 87/100\n",
      "196/196 [==============================] - 1s 7ms/step - loss: 0.3636 - accuracy: 0.8693 - val_loss: 2.8791 - val_accuracy: 0.4906\n",
      "Epoch 88/100\n",
      "196/196 [==============================] - 1s 7ms/step - loss: 0.3359 - accuracy: 0.8794 - val_loss: 2.8245 - val_accuracy: 0.5038\n",
      "Epoch 89/100\n",
      "196/196 [==============================] - 1s 7ms/step - loss: 0.3198 - accuracy: 0.8867 - val_loss: 2.8760 - val_accuracy: 0.4999\n",
      "Epoch 90/100\n",
      "196/196 [==============================] - 1s 7ms/step - loss: 0.3417 - accuracy: 0.8760 - val_loss: 2.9494 - val_accuracy: 0.4972\n",
      "Epoch 91/100\n",
      "196/196 [==============================] - 1s 7ms/step - loss: 0.3473 - accuracy: 0.8758 - val_loss: 2.9500 - val_accuracy: 0.5070\n",
      "Epoch 92/100\n",
      "196/196 [==============================] - 1s 7ms/step - loss: 0.3137 - accuracy: 0.8875 - val_loss: 3.0859 - val_accuracy: 0.4981\n",
      "Epoch 93/100\n",
      "196/196 [==============================] - 1s 7ms/step - loss: 0.3526 - accuracy: 0.8739 - val_loss: 3.0577 - val_accuracy: 0.4978\n",
      "Epoch 94/100\n",
      "196/196 [==============================] - 1s 7ms/step - loss: 0.3137 - accuracy: 0.8883 - val_loss: 3.0475 - val_accuracy: 0.4999\n",
      "Epoch 95/100\n",
      "196/196 [==============================] - 1s 7ms/step - loss: 0.3006 - accuracy: 0.8940 - val_loss: 3.1146 - val_accuracy: 0.4986\n",
      "Epoch 96/100\n",
      "196/196 [==============================] - 1s 7ms/step - loss: 0.2940 - accuracy: 0.8961 - val_loss: 3.1764 - val_accuracy: 0.4956\n",
      "Epoch 97/100\n",
      "196/196 [==============================] - 1s 7ms/step - loss: 0.3077 - accuracy: 0.8894 - val_loss: 3.1313 - val_accuracy: 0.5028\n",
      "Epoch 98/100\n",
      "196/196 [==============================] - 1s 7ms/step - loss: 0.3020 - accuracy: 0.8898 - val_loss: 3.1761 - val_accuracy: 0.5031\n",
      "Epoch 99/100\n",
      "196/196 [==============================] - 1s 7ms/step - loss: 0.3104 - accuracy: 0.8879 - val_loss: 3.2691 - val_accuracy: 0.5011\n",
      "Epoch 100/100\n",
      "196/196 [==============================] - 1s 7ms/step - loss: 0.3006 - accuracy: 0.8914 - val_loss: 3.2773 - val_accuracy: 0.4938\n"
     ]
    },
    {
     "data": {
      "text/plain": [
       "<tensorflow.python.keras.callbacks.History at 0x294117e9708>"
      ]
     },
     "execution_count": 10,
     "metadata": {},
     "output_type": "execute_result"
    }
   ],
   "source": [
    "model.fit(x_train, y_train, \n",
    "          epochs=EPOCHS, \n",
    "          batch_size=BATCH_SIZE, \n",
    "          validation_data=(x_test, y_test), \n",
    "          shuffle=True)"
   ]
  },
  {
   "cell_type": "code",
   "execution_count": 12,
   "metadata": {},
   "outputs": [
    {
     "data": {
      "image/png": "[encoded data removed]",
      "text/plain": [
       "<Figure size 432x288 with 1 Axes>"
      ]
     },
     "metadata": {
      "needs_background": "light"
     },
     "output_type": "display_data"
    },
    {
     "data": {
      "image/png": "[encoded data removed]",
      "text/plain": [
       "<Figure size 432x288 with 1 Axes>"
      ]
     },
     "metadata": {
      "needs_background": "light"
     },
     "output_type": "display_data"
    }
   ],
   "source": [
    "# 訓練模型並檢視驗證集的結果\n",
    "import matplotlib.pyplot as plt\n",
    "\n",
    "train_loss = model.history.history[\"loss\"]\n",
    "valid_loss = model.history.history[\"val_loss\"]\n",
    "\n",
    "train_acc = model.history.history[\"accuracy\"]\n",
    "valid_acc = model.history.history[\"val_accuracy\"]\n",
    "\n",
    "plt.plot(range(len(train_loss)), train_loss, label=\"train loss\")\n",
    "plt.plot(range(len(valid_loss)), valid_loss, label=\"valid loss\")\n",
    "plt.legend()\n",
    "plt.title(\"Loss\")\n",
    "plt.show()\n",
    "\n",
    "plt.plot(range(len(train_acc)), train_acc, label=\"train accuracy\")\n",
    "plt.plot(range(len(valid_acc)), valid_acc, label=\"valid accuracy\")\n",
    "plt.legend()\n",
    "plt.title(\"Accuracy\")\n",
    "plt.show()"
   ]
  },
  {
   "cell_type": "markdown",
   "metadata": {},
   "source": [
    "## Work\n",
    "1. 請嘗試將 preproc_x 替換成以每筆資料的 min/max 進行標準化至 -1 ~ 1 間，再進行訓練\n",
    "2. 請嘗試將 mlp 疊更深 (e.g 5~10 層)，進行訓練後觀察 learning curve 的走勢\n",
    "3. (optional) 請改用 GPU 進行訓練 (如果你有 GPU 的話)，比較使用 CPU 與 GPU 的訓練速度"
   ]
  }
 ],
 "metadata": {
  "kernelspec": {
   "display_name": "Python 3",
   "language": "python",
   "name": "python3"
  },
  "language_info": {
   "codemirror_mode": {
    "name": "ipython",
    "version": 3
   },
   "file_extension": ".py",
   "mimetype": "text/x-python",
   "name": "python",
   "nbconvert_exporter": "python",
   "pygments_lexer": "ipython3",
   "version": "3.7.4"
  }
 },
 "nbformat": 4,
 "nbformat_minor": 2
}
