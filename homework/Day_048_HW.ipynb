{
 "cells": [
  {
   "cell_type": "code",
   "execution_count": 1,
   "metadata": {},
   "outputs": [],
   "source": [
    "import numpy as np\n",
    "import pandas as pd\n",
    "from sklearn.preprocessing import Imputer, MinMaxScaler\n",
    "from sklearn.ensemble import GradientBoostingClassifier\n",
    "from sklearn.model_selection import GridSearchCV\n",
    "\n",
    "import warnings\n",
    "warnings.filterwarnings(\"ignore\")"
   ]
  },
  {
   "cell_type": "code",
   "execution_count": 2,
   "metadata": {},
   "outputs": [],
   "source": [
    "app_train = pd.read_csv(\"./data/train.csv\")\n",
    "app_test = pd.read_csv(\"./data/test.csv\")\n",
    "target = pd.read_csv(\"./data/trainLabels.csv\")"
   ]
  },
  {
   "cell_type": "code",
   "execution_count": 3,
   "metadata": {},
   "outputs": [
    {
     "name": "stdout",
     "output_type": "stream",
     "text": [
      "(999, 40) (8999, 40) (999, 1)\n"
     ]
    }
   ],
   "source": [
    "train = app_train.copy()\n",
    "test = app_test.copy()\n",
    "\n",
    "print(train.shape, test.shape, target.shape)"
   ]
  },
  {
   "cell_type": "code",
   "execution_count": 4,
   "metadata": {},
   "outputs": [],
   "source": [
    "reg = GradientBoostingClassifier(random_state = 7)\n",
    "\n",
    "reg.fit(train, target)\n",
    "\n",
    "pred = reg.predict(test)"
   ]
  },
  {
   "cell_type": "code",
   "execution_count": 5,
   "metadata": {},
   "outputs": [
    {
     "name": "stdout",
     "output_type": "stream",
     "text": [
      "Fitting 3 folds for each of 100 candidates, totalling 300 fits\n"
     ]
    },
    {
     "name": "stderr",
     "output_type": "stream",
     "text": [
      "[Parallel(n_jobs=-1)]: Using backend LokyBackend with 8 concurrent workers.\n",
      "[Parallel(n_jobs=-1)]: Done  34 tasks      | elapsed:    7.7s\n",
      "[Parallel(n_jobs=-1)]: Done 184 tasks      | elapsed:   36.7s\n",
      "[Parallel(n_jobs=-1)]: Done 300 out of 300 | elapsed:   54.9s finished\n"
     ]
    },
    {
     "name": "stdout",
     "output_type": "stream",
     "text": [
      "Best Accuracy: -0.12012012012012012 using {'max_depth': 4, 'n_estimators': 400}\n"
     ]
    }
   ],
   "source": [
    "n_estimators = [100 * (i + 1) for i in range(10)]\n",
    "max_depth = [2 ** i for i in range(10)]\n",
    "param_grid = dict(n_estimators = n_estimators, max_depth = max_depth)\n",
    "\n",
    "grid_search = GridSearchCV(reg, param_grid, scoring = \"neg_mean_squared_error\", n_jobs = -1, verbose = 1)\n",
    "\n",
    "grid_result = grid_search.fit(train, target)\n",
    "                              \n",
    "print(f\"Best Accuracy: {grid_result.best_score_} using {grid_result.best_params_}\")"
   ]
  },
  {
   "cell_type": "code",
   "execution_count": 8,
   "metadata": {},
   "outputs": [],
   "source": [
    "best_clf = GradientBoostingClassifier(\n",
    "        n_estimators = grid_result.best_params_[\"n_estimators\"],\n",
    "        max_depth = grid_result.best_params_[\"max_depth\"]\n",
    ")\n",
    "\n",
    "best_clf.fit(train, target)\n",
    "\n",
    "pred = best_clf.predict(test)\n",
    "\n",
    "pd.DataFrame(pred).to_csv(\"HW048.csv\", index = False)"
   ]
  },
  {
   "cell_type": "code",
   "execution_count": null,
   "metadata": {},
   "outputs": [],
   "source": []
  }
 ],
 "metadata": {
  "kernelspec": {
   "display_name": "Python 3",
   "language": "python",
   "name": "python3"
  },
  "language_info": {
   "codemirror_mode": {
    "name": "ipython",
    "version": 3
   },
   "file_extension": ".py",
   "mimetype": "text/x-python",
   "name": "python",
   "nbconvert_exporter": "python",
   "pygments_lexer": "ipython3",
   "version": "3.7.4"
  }
 },
 "nbformat": 4,
 "nbformat_minor": 2
}
