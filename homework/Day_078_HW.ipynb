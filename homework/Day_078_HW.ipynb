{
 "cells": [
  {
   "cell_type": "markdown",
   "metadata": {},
   "source": [
    "## Work\n",
    "1. 請嘗試將 preproc_x 替換成以每筆資料的 min/max 進行標準化至 -1 ~ 1 間，再進行訓練\n",
    "2. 請嘗試將 mlp 疊更深 (e.g 5~10 層)，進行訓練後觀察 learning curve 的走勢\n",
    "3. (optional) 請改用 GPU 進行訓練 (如果你有 GPU 的話)，比較使用 CPU 與 GPU 的訓練速度"
   ]
  },
  {
   "cell_type": "code",
   "execution_count": 1,
   "metadata": {},
   "outputs": [],
   "source": [
    "## \n",
    "\"\"\"\n",
    "Your code here (optional)\n",
    "確認硬體資源\n",
    "\"\"\"\n"
   ]
  },
  {
   "cell_type": "code",
   "execution_count": 2,
   "metadata": {},
   "outputs": [],
   "source": [
    "import os\n",
    "import keras\n",
    "\n",
    "# 請嘗試設定 GPU：os.environ\n",
    "os.environ[\"CUDA_VISIBLE_DEVICES\"] = \"\""
   ]
  },
  {
   "cell_type": "code",
   "execution_count": 3,
   "metadata": {},
   "outputs": [],
   "source": [
    "train, test = keras.datasets.cifar10.load_data()"
   ]
  },
  {
   "cell_type": "code",
   "execution_count": 4,
   "metadata": {},
   "outputs": [],
   "source": [
    "## 資料前處理\n",
    "\"\"\"\n",
    "Your code here\n",
    "\"\"\"\n",
    "from sklearn.preprocessing import MinMaxScaler\n",
    "MMscaler = MinMaxScaler(feature_range = (-1, 1))\n",
    "def preproc_x(x):\n",
    "    x = x / 255\n",
    "    x = x.reshape((len(x), -1))\n",
    "    x = MMscaler.fit_transform(x)\n",
    "    return x\n",
    "\n",
    "def preproc_y(y, num_classes = 10):\n",
    "    if y.shape[-1] == 1:\n",
    "        y = keras.utils.to_categorical(y, num_classes)\n",
    "    return y"
   ]
  },
  {
   "cell_type": "code",
   "execution_count": 5,
   "metadata": {},
   "outputs": [],
   "source": [
    "x_train, y_train = train\n",
    "x_test, y_test = test\n",
    "\n",
    "# Preproc the inputs\n",
    "x_train = preproc_x(x_train)\n",
    "x_test = preproc_x(x_test)\n",
    "\n",
    "# Preprc the outputs\n",
    "y_train = preproc_y(y_train)\n",
    "y_test = preproc_y(y_test)"
   ]
  },
  {
   "cell_type": "code",
   "execution_count": 6,
   "metadata": {},
   "outputs": [
    {
     "name": "stdout",
     "output_type": "stream",
     "text": [
      "Model: \"functional_1\"\n",
      "_________________________________________________________________\n",
      "Layer (type)                 Output Shape              Param #   \n",
      "=================================================================\n",
      "input_1 (InputLayer)         [(None, 3072)]            0         \n",
      "_________________________________________________________________\n",
      "hidden_layer1 (Dense)        (None, 512)               1573376   \n",
      "_________________________________________________________________\n",
      "hidden_layer2 (Dense)        (None, 256)               131328    \n",
      "_________________________________________________________________\n",
      "hidden_layer3 (Dense)        (None, 128)               32896     \n",
      "_________________________________________________________________\n",
      "hidden_layer4 (Dense)        (None, 64)                8256      \n",
      "_________________________________________________________________\n",
      "hidden_layer5 (Dense)        (None, 32)                2080      \n",
      "_________________________________________________________________\n",
      "hidden_layer6 (Dense)        (None, 16)                528       \n",
      "_________________________________________________________________\n",
      "output (Dense)               (None, 10)                170       \n",
      "=================================================================\n",
      "Total params: 1,748,634\n",
      "Trainable params: 1,748,634\n",
      "Non-trainable params: 0\n",
      "_________________________________________________________________\n"
     ]
    }
   ],
   "source": [
    "\"\"\"Code Here\n",
    "建立你的神經網路\n",
    "\"\"\"\n",
    "def build_mlp(input_shape, output_units=10, num_neurons=[512, 256, 128]):\n",
    "    input_layer = keras.layers.Input(input_shape)\n",
    "    \n",
    "    for i, n_units in enumerate(num_neurons):\n",
    "        if i == 0:\n",
    "            x = keras.layers.Dense(units=n_units, activation=\"relu\", name=\"hidden_layer\"+str(i+1))(input_layer)\n",
    "        else:\n",
    "            x = keras.layers.Dense(units=n_units, activation=\"relu\", name=\"hidden_layer\"+str(i+1))(x)\n",
    "    \n",
    "    out = keras.layers.Dense(units=output_units, activation=\"softmax\", name=\"output\")(x)\n",
    "    \n",
    "    model = keras.models.Model(inputs=[input_layer], outputs=[out])\n",
    "    return model\n",
    "\n",
    "model = build_mlp(input_shape=x_train.shape[1:], output_units = 10,\n",
    "                  num_neurons = [512, 256, 128, 64, 32, 16])\n",
    "model.summary()"
   ]
  },
  {
   "cell_type": "code",
   "execution_count": 7,
   "metadata": {},
   "outputs": [],
   "source": [
    "## 超參數設定\n",
    "LEARNING_RATE = 0.001\n",
    "EPOCHS = 100\n",
    "BATCH_SIZE = 64"
   ]
  },
  {
   "cell_type": "code",
   "execution_count": 8,
   "metadata": {},
   "outputs": [],
   "source": [
    "optimizer = keras.optimizers.Adam(lr=LEARNING_RATE)\n",
    "model.compile(loss=\"categorical_crossentropy\", metrics=[\"accuracy\"], optimizer=optimizer)"
   ]
  },
  {
   "cell_type": "code",
   "execution_count": 9,
   "metadata": {},
   "outputs": [
    {
     "name": "stdout",
     "output_type": "stream",
     "text": [
      "Epoch 1/100\n",
      "782/782 [==============================] - 4s 5ms/step - loss: 1.7643 - accuracy: 0.3706 - val_loss: 1.5745 - val_accuracy: 0.4484\n",
      "Epoch 2/100\n",
      "782/782 [==============================] - 3s 4ms/step - loss: 1.5285 - accuracy: 0.4602 - val_loss: 1.4922 - val_accuracy: 0.4789\n",
      "Epoch 3/100\n",
      "782/782 [==============================] - 3s 4ms/step - loss: 1.4042 - accuracy: 0.5033 - val_loss: 1.4295 - val_accuracy: 0.4951\n",
      "Epoch 4/100\n",
      "782/782 [==============================] - 3s 4ms/step - loss: 1.3132 - accuracy: 0.5346 - val_loss: 1.3898 - val_accuracy: 0.5127\n",
      "Epoch 5/100\n",
      "782/782 [==============================] - 3s 4ms/step - loss: 1.2330 - accuracy: 0.5655 - val_loss: 1.3941 - val_accuracy: 0.5151\n",
      "Epoch 6/100\n",
      "782/782 [==============================] - 3s 4ms/step - loss: 1.1577 - accuracy: 0.5902 - val_loss: 1.3798 - val_accuracy: 0.5237\n",
      "Epoch 7/100\n",
      "782/782 [==============================] - 3s 4ms/step - loss: 1.0883 - accuracy: 0.6141 - val_loss: 1.3960 - val_accuracy: 0.5289\n",
      "Epoch 8/100\n",
      "782/782 [==============================] - 3s 4ms/step - loss: 1.0251 - accuracy: 0.6370 - val_loss: 1.4035 - val_accuracy: 0.5271\n",
      "Epoch 9/100\n",
      "782/782 [==============================] - 3s 4ms/step - loss: 0.9513 - accuracy: 0.6633 - val_loss: 1.4385 - val_accuracy: 0.5309\n",
      "Epoch 10/100\n",
      "782/782 [==============================] - 3s 4ms/step - loss: 0.8930 - accuracy: 0.6823 - val_loss: 1.4617 - val_accuracy: 0.5262\n",
      "Epoch 11/100\n",
      "782/782 [==============================] - 3s 4ms/step - loss: 0.8286 - accuracy: 0.7055 - val_loss: 1.5075 - val_accuracy: 0.5332\n",
      "Epoch 12/100\n",
      "782/782 [==============================] - 3s 4ms/step - loss: 0.7767 - accuracy: 0.7243 - val_loss: 1.5735 - val_accuracy: 0.5353\n",
      "Epoch 13/100\n",
      "782/782 [==============================] - 3s 4ms/step - loss: 0.7216 - accuracy: 0.7423 - val_loss: 1.6053 - val_accuracy: 0.5272\n",
      "Epoch 14/100\n",
      "782/782 [==============================] - 3s 4ms/step - loss: 0.6720 - accuracy: 0.7594 - val_loss: 1.6596 - val_accuracy: 0.5260\n",
      "Epoch 15/100\n",
      "782/782 [==============================] - 3s 4ms/step - loss: 0.6316 - accuracy: 0.7779 - val_loss: 1.7242 - val_accuracy: 0.5362\n",
      "Epoch 16/100\n",
      "782/782 [==============================] - 3s 4ms/step - loss: 0.5886 - accuracy: 0.7927 - val_loss: 1.8338 - val_accuracy: 0.5204\n",
      "Epoch 17/100\n",
      "782/782 [==============================] - 3s 4ms/step - loss: 0.5580 - accuracy: 0.8024 - val_loss: 1.8068 - val_accuracy: 0.5340\n",
      "Epoch 18/100\n",
      "782/782 [==============================] - 3s 4ms/step - loss: 0.5236 - accuracy: 0.8155 - val_loss: 1.9297 - val_accuracy: 0.5311\n",
      "Epoch 19/100\n",
      "782/782 [==============================] - 3s 4ms/step - loss: 0.4928 - accuracy: 0.8274 - val_loss: 2.0040 - val_accuracy: 0.5307\n",
      "Epoch 20/100\n",
      "782/782 [==============================] - 3s 4ms/step - loss: 0.4565 - accuracy: 0.8394 - val_loss: 2.0635 - val_accuracy: 0.5329\n",
      "Epoch 21/100\n",
      "782/782 [==============================] - 3s 4ms/step - loss: 0.4411 - accuracy: 0.8436 - val_loss: 2.0647 - val_accuracy: 0.5302\n",
      "Epoch 22/100\n",
      "782/782 [==============================] - 3s 4ms/step - loss: 0.4224 - accuracy: 0.8528 - val_loss: 2.1455 - val_accuracy: 0.5274\n",
      "Epoch 23/100\n",
      "782/782 [==============================] - 3s 4ms/step - loss: 0.3931 - accuracy: 0.8629 - val_loss: 2.2160 - val_accuracy: 0.5233\n",
      "Epoch 24/100\n",
      "782/782 [==============================] - 3s 4ms/step - loss: 0.3777 - accuracy: 0.8680 - val_loss: 2.2871 - val_accuracy: 0.5279\n",
      "Epoch 25/100\n",
      "782/782 [==============================] - 3s 4ms/step - loss: 0.3583 - accuracy: 0.8752 - val_loss: 2.2390 - val_accuracy: 0.5254\n",
      "Epoch 26/100\n",
      "782/782 [==============================] - 3s 4ms/step - loss: 0.3438 - accuracy: 0.8809 - val_loss: 2.3596 - val_accuracy: 0.5332\n",
      "Epoch 27/100\n",
      "782/782 [==============================] - 3s 4ms/step - loss: 0.3265 - accuracy: 0.8874 - val_loss: 2.4079 - val_accuracy: 0.5220\n",
      "Epoch 28/100\n",
      "782/782 [==============================] - 3s 4ms/step - loss: 0.3145 - accuracy: 0.8910 - val_loss: 2.4930 - val_accuracy: 0.5169\n",
      "Epoch 29/100\n",
      "782/782 [==============================] - 3s 4ms/step - loss: 0.3024 - accuracy: 0.8971 - val_loss: 2.4314 - val_accuracy: 0.5282\n",
      "Epoch 30/100\n",
      "782/782 [==============================] - 3s 4ms/step - loss: 0.2939 - accuracy: 0.8991 - val_loss: 2.6079 - val_accuracy: 0.5323\n",
      "Epoch 31/100\n",
      "782/782 [==============================] - 3s 4ms/step - loss: 0.2769 - accuracy: 0.9051 - val_loss: 2.5761 - val_accuracy: 0.5256\n",
      "Epoch 32/100\n",
      "782/782 [==============================] - 3s 4ms/step - loss: 0.2753 - accuracy: 0.9066 - val_loss: 2.6433 - val_accuracy: 0.5291\n",
      "Epoch 33/100\n",
      "782/782 [==============================] - 3s 4ms/step - loss: 0.2596 - accuracy: 0.9113 - val_loss: 2.6317 - val_accuracy: 0.5227\n",
      "Epoch 34/100\n",
      "782/782 [==============================] - 3s 4ms/step - loss: 0.2529 - accuracy: 0.9139 - val_loss: 2.7105 - val_accuracy: 0.5240\n",
      "Epoch 35/100\n",
      "782/782 [==============================] - 3s 4ms/step - loss: 0.2426 - accuracy: 0.9181 - val_loss: 2.6783 - val_accuracy: 0.5246\n",
      "Epoch 36/100\n",
      "782/782 [==============================] - 3s 4ms/step - loss: 0.2364 - accuracy: 0.9202 - val_loss: 2.7814 - val_accuracy: 0.5257\n",
      "Epoch 37/100\n",
      "782/782 [==============================] - 3s 4ms/step - loss: 0.2275 - accuracy: 0.9228 - val_loss: 2.9698 - val_accuracy: 0.5199\n",
      "Epoch 38/100\n",
      "782/782 [==============================] - 3s 4ms/step - loss: 0.2204 - accuracy: 0.9254 - val_loss: 2.7712 - val_accuracy: 0.5293\n",
      "Epoch 39/100\n",
      "782/782 [==============================] - 3s 4ms/step - loss: 0.2217 - accuracy: 0.9265 - val_loss: 2.8565 - val_accuracy: 0.5239\n",
      "Epoch 40/100\n",
      "782/782 [==============================] - 3s 4ms/step - loss: 0.2047 - accuracy: 0.9309 - val_loss: 3.0170 - val_accuracy: 0.5168\n",
      "Epoch 41/100\n",
      "782/782 [==============================] - 3s 4ms/step - loss: 0.1999 - accuracy: 0.9332 - val_loss: 3.0250 - val_accuracy: 0.5223\n",
      "Epoch 42/100\n",
      "782/782 [==============================] - 3s 4ms/step - loss: 0.1980 - accuracy: 0.9343 - val_loss: 2.8425 - val_accuracy: 0.5268\n",
      "Epoch 43/100\n",
      "782/782 [==============================] - 3s 4ms/step - loss: 0.1959 - accuracy: 0.9342 - val_loss: 3.0355 - val_accuracy: 0.5273\n",
      "Epoch 44/100\n",
      "782/782 [==============================] - 3s 4ms/step - loss: 0.1821 - accuracy: 0.9397 - val_loss: 2.9428 - val_accuracy: 0.5274\n",
      "Epoch 45/100\n",
      "782/782 [==============================] - 3s 4ms/step - loss: 0.1868 - accuracy: 0.9377 - val_loss: 2.9704 - val_accuracy: 0.5251\n",
      "Epoch 46/100\n",
      "782/782 [==============================] - 3s 4ms/step - loss: 0.1869 - accuracy: 0.9394 - val_loss: 3.0287 - val_accuracy: 0.5246\n",
      "Epoch 47/100\n",
      "782/782 [==============================] - 3s 4ms/step - loss: 0.1688 - accuracy: 0.9439 - val_loss: 3.1814 - val_accuracy: 0.5361\n",
      "Epoch 48/100\n",
      "782/782 [==============================] - 3s 4ms/step - loss: 0.1661 - accuracy: 0.9450 - val_loss: 3.0319 - val_accuracy: 0.5278\n",
      "Epoch 49/100\n",
      "782/782 [==============================] - 3s 4ms/step - loss: 0.1609 - accuracy: 0.9469 - val_loss: 3.1384 - val_accuracy: 0.5249\n",
      "Epoch 50/100\n",
      "782/782 [==============================] - 4s 5ms/step - loss: 0.1655 - accuracy: 0.9445 - val_loss: 3.1548 - val_accuracy: 0.5290\n",
      "Epoch 51/100\n",
      "782/782 [==============================] - 4s 5ms/step - loss: 0.1593 - accuracy: 0.9463 - val_loss: 3.2962 - val_accuracy: 0.5232\n",
      "Epoch 52/100\n",
      "782/782 [==============================] - 4s 5ms/step - loss: 0.1550 - accuracy: 0.9491 - val_loss: 3.2202 - val_accuracy: 0.5208\n",
      "Epoch 53/100\n",
      "782/782 [==============================] - 3s 4ms/step - loss: 0.1498 - accuracy: 0.9517 - val_loss: 3.2968 - val_accuracy: 0.5278\n",
      "Epoch 54/100\n",
      "782/782 [==============================] - 4s 5ms/step - loss: 0.1443 - accuracy: 0.9517 - val_loss: 3.2892 - val_accuracy: 0.5318\n",
      "Epoch 55/100\n",
      "782/782 [==============================] - 4s 5ms/step - loss: 0.1468 - accuracy: 0.9526 - val_loss: 3.1211 - val_accuracy: 0.5300\n",
      "Epoch 56/100\n",
      "782/782 [==============================] - 4s 5ms/step - loss: 0.1444 - accuracy: 0.9527 - val_loss: 3.4397 - val_accuracy: 0.5240\n",
      "Epoch 57/100\n",
      "782/782 [==============================] - 4s 5ms/step - loss: 0.1453 - accuracy: 0.9530 - val_loss: 3.3430 - val_accuracy: 0.5256\n"
     ]
    },
    {
     "name": "stdout",
     "output_type": "stream",
     "text": [
      "Epoch 58/100\n",
      "782/782 [==============================] - 4s 5ms/step - loss: 0.1329 - accuracy: 0.9569 - val_loss: 3.2622 - val_accuracy: 0.5216\n",
      "Epoch 59/100\n",
      "782/782 [==============================] - 4s 5ms/step - loss: 0.1420 - accuracy: 0.9532 - val_loss: 3.3528 - val_accuracy: 0.5298\n",
      "Epoch 60/100\n",
      "782/782 [==============================] - 4s 5ms/step - loss: 0.1316 - accuracy: 0.9568 - val_loss: 3.3148 - val_accuracy: 0.5281\n",
      "Epoch 61/100\n",
      "782/782 [==============================] - 4s 5ms/step - loss: 0.1251 - accuracy: 0.9600 - val_loss: 3.3177 - val_accuracy: 0.5222\n",
      "Epoch 62/100\n",
      "782/782 [==============================] - 4s 5ms/step - loss: 0.1343 - accuracy: 0.9566 - val_loss: 3.2487 - val_accuracy: 0.5270\n",
      "Epoch 63/100\n",
      "782/782 [==============================] - 4s 5ms/step - loss: 0.1220 - accuracy: 0.9607 - val_loss: 3.3772 - val_accuracy: 0.5305\n",
      "Epoch 64/100\n",
      "782/782 [==============================] - 4s 5ms/step - loss: 0.1190 - accuracy: 0.9621 - val_loss: 3.4230 - val_accuracy: 0.5274\n",
      "Epoch 65/100\n",
      "782/782 [==============================] - 4s 5ms/step - loss: 0.1273 - accuracy: 0.9596 - val_loss: 3.3606 - val_accuracy: 0.5271\n",
      "Epoch 66/100\n",
      "782/782 [==============================] - 4s 5ms/step - loss: 0.1154 - accuracy: 0.9636 - val_loss: 3.5550 - val_accuracy: 0.5268\n",
      "Epoch 67/100\n",
      "782/782 [==============================] - 4s 5ms/step - loss: 0.1139 - accuracy: 0.9633 - val_loss: 3.5187 - val_accuracy: 0.5312\n",
      "Epoch 68/100\n",
      "782/782 [==============================] - 4s 5ms/step - loss: 0.1127 - accuracy: 0.9639 - val_loss: 3.5754 - val_accuracy: 0.5247\n",
      "Epoch 69/100\n",
      "782/782 [==============================] - 4s 5ms/step - loss: 0.1198 - accuracy: 0.9622 - val_loss: 3.4629 - val_accuracy: 0.5297\n",
      "Epoch 70/100\n",
      "782/782 [==============================] - 4s 5ms/step - loss: 0.1130 - accuracy: 0.9629 - val_loss: 3.4861 - val_accuracy: 0.5269\n",
      "Epoch 71/100\n",
      "782/782 [==============================] - 4s 5ms/step - loss: 0.1132 - accuracy: 0.9642 - val_loss: 3.3986 - val_accuracy: 0.5311\n",
      "Epoch 72/100\n",
      "782/782 [==============================] - 4s 5ms/step - loss: 0.1069 - accuracy: 0.9649 - val_loss: 3.3311 - val_accuracy: 0.5261\n",
      "Epoch 73/100\n",
      "782/782 [==============================] - 4s 5ms/step - loss: 0.1030 - accuracy: 0.9669 - val_loss: 3.7127 - val_accuracy: 0.5307\n",
      "Epoch 74/100\n",
      "782/782 [==============================] - 4s 5ms/step - loss: 0.1075 - accuracy: 0.9658 - val_loss: 3.3479 - val_accuracy: 0.5362\n",
      "Epoch 75/100\n",
      "782/782 [==============================] - 4s 5ms/step - loss: 0.0998 - accuracy: 0.9684 - val_loss: 3.4415 - val_accuracy: 0.5292\n",
      "Epoch 76/100\n",
      "782/782 [==============================] - 4s 5ms/step - loss: 0.1003 - accuracy: 0.9682 - val_loss: 3.6190 - val_accuracy: 0.5261\n",
      "Epoch 77/100\n",
      "782/782 [==============================] - 4s 5ms/step - loss: 0.0997 - accuracy: 0.9679 - val_loss: 3.5230 - val_accuracy: 0.5284\n",
      "Epoch 78/100\n",
      "782/782 [==============================] - 4s 5ms/step - loss: 0.1054 - accuracy: 0.9656 - val_loss: 3.6345 - val_accuracy: 0.5278\n",
      "Epoch 79/100\n",
      "782/782 [==============================] - 4s 5ms/step - loss: 0.0951 - accuracy: 0.9696 - val_loss: 3.5889 - val_accuracy: 0.5354\n",
      "Epoch 80/100\n",
      "782/782 [==============================] - 4s 5ms/step - loss: 0.1024 - accuracy: 0.9682 - val_loss: 3.5833 - val_accuracy: 0.5302\n",
      "Epoch 81/100\n",
      "782/782 [==============================] - 4s 5ms/step - loss: 0.0896 - accuracy: 0.9716 - val_loss: 3.7678 - val_accuracy: 0.5222\n",
      "Epoch 82/100\n",
      "782/782 [==============================] - 4s 5ms/step - loss: 0.1007 - accuracy: 0.9679 - val_loss: 3.5325 - val_accuracy: 0.5308\n",
      "Epoch 83/100\n",
      "782/782 [==============================] - 4s 5ms/step - loss: 0.0786 - accuracy: 0.9752 - val_loss: 3.5923 - val_accuracy: 0.5354\n",
      "Epoch 84/100\n",
      "782/782 [==============================] - 4s 5ms/step - loss: 0.0945 - accuracy: 0.9700 - val_loss: 3.5298 - val_accuracy: 0.5271\n",
      "Epoch 85/100\n",
      "782/782 [==============================] - 4s 5ms/step - loss: 0.0904 - accuracy: 0.9714 - val_loss: 3.6659 - val_accuracy: 0.5301\n",
      "Epoch 86/100\n",
      "782/782 [==============================] - 4s 5ms/step - loss: 0.0842 - accuracy: 0.9738 - val_loss: 3.5385 - val_accuracy: 0.5260\n",
      "Epoch 87/100\n",
      "782/782 [==============================] - 4s 5ms/step - loss: 0.0871 - accuracy: 0.9733 - val_loss: 3.5790 - val_accuracy: 0.5354\n",
      "Epoch 88/100\n",
      "782/782 [==============================] - 4s 5ms/step - loss: 0.0962 - accuracy: 0.9698 - val_loss: 3.5631 - val_accuracy: 0.5315\n",
      "Epoch 89/100\n",
      "782/782 [==============================] - 4s 5ms/step - loss: 0.0871 - accuracy: 0.9723 - val_loss: 3.7322 - val_accuracy: 0.5327\n",
      "Epoch 90/100\n",
      "782/782 [==============================] - 4s 5ms/step - loss: 0.0827 - accuracy: 0.9741 - val_loss: 3.4502 - val_accuracy: 0.5369\n",
      "Epoch 91/100\n",
      "782/782 [==============================] - 4s 5ms/step - loss: 0.0838 - accuracy: 0.9738 - val_loss: 3.7661 - val_accuracy: 0.5408\n",
      "Epoch 92/100\n",
      "782/782 [==============================] - 4s 5ms/step - loss: 0.0837 - accuracy: 0.9735 - val_loss: 3.5245 - val_accuracy: 0.5180\n",
      "Epoch 93/100\n",
      "782/782 [==============================] - 4s 5ms/step - loss: 0.0791 - accuracy: 0.9749 - val_loss: 3.7239 - val_accuracy: 0.5287\n",
      "Epoch 94/100\n",
      "782/782 [==============================] - 4s 5ms/step - loss: 0.0850 - accuracy: 0.9736 - val_loss: 3.4945 - val_accuracy: 0.5317\n",
      "Epoch 95/100\n",
      "782/782 [==============================] - 4s 5ms/step - loss: 0.0731 - accuracy: 0.9772 - val_loss: 3.7255 - val_accuracy: 0.5289\n",
      "Epoch 96/100\n",
      "782/782 [==============================] - 4s 5ms/step - loss: 0.0823 - accuracy: 0.9736 - val_loss: 3.8582 - val_accuracy: 0.5306\n",
      "Epoch 97/100\n",
      "782/782 [==============================] - 4s 5ms/step - loss: 0.0813 - accuracy: 0.9750 - val_loss: 3.4823 - val_accuracy: 0.5265\n",
      "Epoch 98/100\n",
      "782/782 [==============================] - 4s 5ms/step - loss: 0.0797 - accuracy: 0.9751 - val_loss: 3.7404 - val_accuracy: 0.5260\n",
      "Epoch 99/100\n",
      "782/782 [==============================] - 4s 5ms/step - loss: 0.0784 - accuracy: 0.9764 - val_loss: 3.7600 - val_accuracy: 0.5281\n",
      "Epoch 100/100\n",
      "782/782 [==============================] - 4s 5ms/step - loss: 0.0781 - accuracy: 0.9758 - val_loss: 3.5146 - val_accuracy: 0.5225\n"
     ]
    },
    {
     "data": {
      "text/plain": [
       "<tensorflow.python.keras.callbacks.History at 0x2ca87b427c8>"
      ]
     },
     "execution_count": 9,
     "metadata": {},
     "output_type": "execute_result"
    }
   ],
   "source": [
    "model.fit(x_train, y_train, \n",
    "          epochs=EPOCHS, \n",
    "          batch_size=BATCH_SIZE, \n",
    "          validation_data=(x_test, y_test), \n",
    "          shuffle=True)"
   ]
  },
  {
   "cell_type": "code",
   "execution_count": 11,
   "metadata": {},
   "outputs": [
    {
     "data": {
      "image/png": "[encoded data removed]",
      "text/plain": [
       "<Figure size 432x288 with 1 Axes>"
      ]
     },
     "metadata": {
      "needs_background": "light"
     },
     "output_type": "display_data"
    },
    {
     "data": {
      "image/png": "[encoded data removed]",
      "text/plain": [
       "<Figure size 432x288 with 1 Axes>"
      ]
     },
     "metadata": {
      "needs_background": "light"
     },
     "output_type": "display_data"
    }
   ],
   "source": [
    "import matplotlib.pyplot as plt\n",
    "\n",
    "\n",
    "train_loss = model.history.history[\"loss\"]\n",
    "valid_loss = model.history.history[\"val_loss\"]\n",
    "\n",
    "train_acc = model.history.history[\"accuracy\"]\n",
    "valid_acc = model.history.history[\"val_accuracy\"]\n",
    "\n",
    "plt.plot(range(len(train_loss)), train_loss, label=\"train loss\")\n",
    "plt.plot(range(len(valid_loss)), valid_loss, label=\"valid loss\")\n",
    "plt.legend()\n",
    "plt.title(\"Loss\")\n",
    "plt.show()\n",
    "\n",
    "plt.plot(range(len(train_acc)), train_acc, label=\"train accuracy\")\n",
    "plt.plot(range(len(valid_acc)), valid_acc, label=\"valid accuracy\")\n",
    "plt.legend()\n",
    "plt.title(\"Accuracy\")\n",
    "plt.show()"
   ]
  },
  {
   "cell_type": "code",
   "execution_count": null,
   "metadata": {},
   "outputs": [],
   "source": []
  }
 ],
 "metadata": {
  "kernelspec": {
   "display_name": "Python 3",
   "language": "python",
   "name": "python3"
  },
  "language_info": {
   "codemirror_mode": {
    "name": "ipython",
    "version": 3
   },
   "file_extension": ".py",
   "mimetype": "text/x-python",
   "name": "python",
   "nbconvert_exporter": "python",
   "pygments_lexer": "ipython3",
   "version": "3.7.4"
  }
 },
 "nbformat": 4,
 "nbformat_minor": 2
}
