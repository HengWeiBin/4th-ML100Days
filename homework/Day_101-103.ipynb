{
 "cells": [
  {
   "cell_type": "code",
   "execution_count": 1,
   "metadata": {},
   "outputs": [],
   "source": [
    "from keras.datasets import cifar10\n",
    "from keras.applications.resnet50 import ResNet50\n",
    "from keras.models import Model\n",
    "from keras.layers import Flatten, Dense, Dropout\n",
    "from keras.optimizers import Adam\n",
    "from keras.utils import to_categorical\n",
    "from keras.preprocessing.image import ImageDataGenerator\n",
    "from keras.callbacks import LearningRateScheduler, ReduceLROnPlateau\n",
    "import numpy as np"
   ]
  },
  {
   "cell_type": "code",
   "execution_count": 2,
   "metadata": {},
   "outputs": [],
   "source": [
    "DATASET_PATH = \"./data/4th-cupoy-ml-100-marathon-finalexam/image_data\"\n",
    "IMAGE_SIZE = (224, 224, 3)\n",
    "NUM_CLASSES = 5\n",
    "BATCH_SIZE = 32\n",
    "EPOCHS = 200\n",
    "FREEZE_LAYERS = 25"
   ]
  },
  {
   "cell_type": "code",
   "execution_count": 3,
   "metadata": {},
   "outputs": [
    {
     "name": "stdout",
     "output_type": "stream",
     "text": [
      "Found 2823 images belonging to 5 classes.\n"
     ]
    }
   ],
   "source": [
    "train_datagen = ImageDataGenerator(rotation_range=20,\n",
    "                                   width_shift_range=0.2,\n",
    "                                   height_shift_range=0.2,\n",
    "                                   shear_range=0.2,\n",
    "                                   zoom_range=0.2,\n",
    "                                   channel_shift_range=10,\n",
    "                                   horizontal_flip=True,\n",
    "                                   fill_mode=\"nearest\")\n",
    "\n",
    "train_generator = train_datagen.flow_from_directory(DATASET_PATH + \"/train\",\n",
    "                                                    target_size=(224, 224),\n",
    "                                                    interpolation=\"bicubic\",\n",
    "                                                    class_mode=\"categorical\",\n",
    "                                                    shuffle=True,\n",
    "                                                    batch_size=BATCH_SIZE)\n",
    "\n",
    "\n",
    "def lr_schedule(epoch):\n",
    "    \"\"\"Learning Rate Schedule\n",
    "    Learning rate is scheduled to be reduced after 80, 120, 160, 180 epochs.\n",
    "    Called automatically every epoch as part of callbacks during training.\n",
    "    # Arguments\n",
    "        epoch (int): The number of epochs\n",
    "    # Returns\n",
    "        lr (float32): learning rate\n",
    "    \"\"\"\n",
    "    lr = 1e-3\n",
    "    if epoch > 180:\n",
    "        lr *= 0.5e-3\n",
    "    elif epoch > 160:\n",
    "        lr *= 1e-3\n",
    "    elif epoch > 120:\n",
    "        lr *= 1e-2\n",
    "    elif epoch > 80:\n",
    "        lr *= 1e-1\n",
    "    return lr"
   ]
  },
  {
   "cell_type": "code",
   "execution_count": 6,
   "metadata": {},
   "outputs": [
    {
     "name": "stdout",
     "output_type": "stream",
     "text": [
      "Model loaded successfully!\n"
     ]
    }
   ],
   "source": [
    "from keras.models import load_model\n",
    "\n",
    "try:\n",
    "    model = load_model(\"./saved_models/model_D101-103.h5\")\n",
    "    print(\"Model loaded successfully!\")\n",
    "except:\n",
    "    print(\"Failed to load model!\")\n",
    "    resnet = ResNet50(include_top=False,\n",
    "                     weights=\"imagenet\",\n",
    "                     input_tensor=None,\n",
    "                     input_shape=IMAGE_SIZE)\n",
    "\n",
    "    x = resnet.output\n",
    "    x = Flatten()(x)\n",
    "    x = Dropout(0.2)(x)\n",
    "\n",
    "    output = Dense(NUM_CLASSES, activation=\"softmax\", name=\"output\")(x)\n",
    "\n",
    "    model = Model(resnet.input, output)\n",
    "\n",
    "    for layer in model.layers[:FREEZE_LAYERS]:\n",
    "        layer.trainable = False\n",
    "    for layer in model.layers[FREEZE_LAYERS:]:\n",
    "        layer.trainable = True\n",
    "\n",
    "    model.compile(optimizer=Adam(lr=lr_schedule(0)),\n",
    "                  loss='categorical_crossentropy',\n",
    "                  metrics=[\"accuracy\"])\n",
    "\n",
    "    print(model.summary())\n",
    "\n",
    "    # 使用動態調整學習率\n",
    "    lr_scheduler = LearningRateScheduler(lr_schedule)\n",
    "\n",
    "    # 使用自動降低學習率 (當 validation loss 連續 5 次沒有下降時，自動降低學習率)\n",
    "    lr_reducer = ReduceLROnPlateau(monitor=\"loss\",\n",
    "                                   factor=np.sqrt(0.1),\n",
    "                                   cooldown=0,\n",
    "                                   patience=5,\n",
    "                                   min_lr=0.5e-6)\n",
    "    # 設定 callbacks\n",
    "    callbacks = [lr_reducer, lr_scheduler]\n",
    "\n",
    "    model.fit(x=train_generator,\n",
    "             steps_per_epoch = train_generator.samples // BATCH_SIZE,\n",
    "             epochs=EPOCHS,\n",
    "             callbacks=callbacks)\n",
    "\n",
    "    model.save(\"./saved_models/model_D101-103.h5\")"
   ]
  },
  {
   "cell_type": "code",
   "execution_count": 7,
   "metadata": {},
   "outputs": [],
   "source": [
    "from keras.preprocessing import image\n",
    "from os import walk, path\n",
    "import pandas as pd\n",
    "\n",
    "images =  walk(DATASET_PATH + \"/test\")\n",
    "\n",
    "data = []\n",
    "\n",
    "for root, dirs, files in images:\n",
    "    for name in files:\n",
    "        Path = path.join(root, name)\n",
    "        img = image.load_img(Path, target_size=(224, 224))\n",
    "        if img is None:\n",
    "            continue\n",
    "        img = image.img_to_array(img)\n",
    "        img = np.expand_dims(img, axis=0)\n",
    "        pred = model.predict(img)[0]\n",
    "        top_inds = pred.argsort()[::-1][:5]\n",
    "        data.append([name[:-4], list(pred).index(max(pred))])\n",
    "        \n",
    "result = pd.DataFrame(data, columns=[\"id\", \"flower_class\"])\n",
    "result.to_csv(\"Day101-103.csv\", index=False)"
   ]
  },
  {
   "cell_type": "code",
   "execution_count": null,
   "metadata": {},
   "outputs": [],
   "source": []
  }
 ],
 "metadata": {
  "kernelspec": {
   "display_name": "Python 3",
   "language": "python",
   "name": "python3"
  },
  "language_info": {
   "codemirror_mode": {
    "name": "ipython",
    "version": 3
   },
   "file_extension": ".py",
   "mimetype": "text/x-python",
   "name": "python",
   "nbconvert_exporter": "python",
   "pygments_lexer": "ipython3",
   "version": "3.7.4"
  }
 },
 "nbformat": 4,
 "nbformat_minor": 2
}
